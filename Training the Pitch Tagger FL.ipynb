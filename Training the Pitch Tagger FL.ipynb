{
 "cells": [
  {
   "cell_type": "code",
   "execution_count": 1,
   "id": "d56fdde0",
   "metadata": {},
   "outputs": [],
   "source": [
    "import os\n",
    "from datetime import datetime\n",
    "import joblib\n",
    "import pandas as pd\n",
    "import warnings\n",
    "from colorama import Fore\n",
    "import json\n",
    "from sklearn.preprocessing import LabelEncoder\n",
    "from xgboost import XGBClassifier\n",
    "from hyperopt import hp, fmin, tpe\n",
    "from sklearn.model_selection import train_test_split, RandomizedSearchCV\n",
    "import numpy as np\n",
    "from sklearn.metrics import log_loss\n",
    "from sklearn.metrics import accuracy_score, precision_score\n",
    "\n",
    "cols = ['PitcherTeam', 'Pitcher', 'PitcherThrows', 'TaggedPitchType', 'RelSpeed', 'SpinRate', 'SpinAxis', 'Tilt',\n",
    "        'VertBreak', 'HorzBreak', 'HomeTeam', 'yt_Efficiency']\n",
    "features = ['RelSpeed', 'SpinRate', 'VertBreak', 'HorzBreak', 'yt_Efficiency', 'SpinAxis']\n",
    "\n",
    "data = pd.DataFrame()\n",
    "directory = 'Game Data/Joliet Slammers'\n",
    "try:\n",
    "    for filename in os.listdir(directory):\n",
    "        if filename.endswith(\".csv\"):\n",
    "            file_path = os.path.join(directory, filename)\n",
    "            df = pd.read_csv(file_path)\n",
    "            data = pd.concat([data, df], ignore_index=True)\n",
    "except OSError:\n",
    "    print(\"ERROR: File not found, try again\")"
   ]
  },
  {
   "cell_type": "code",
   "execution_count": 2,
   "id": "fed48284",
   "metadata": {},
   "outputs": [],
   "source": [
    "data.PitcherTeam = data.PitcherTeam.replace({'Joliet slammers': 'Joliet Slammers'})"
   ]
  },
  {
   "cell_type": "code",
   "execution_count": 3,
   "id": "9dcf31e3",
   "metadata": {},
   "outputs": [],
   "source": [
    "data = data[((data['HomeTeam'] == 'Joliet Slammers') & (data['PitcherTeam'] == 'Joliet Slammers')) | ((data['HomeTeam'] == 'Schaumburg Boomers') & (data['PitcherTeam'] == 'Schaumburg Boomers')) | ((data['HomeTeam'] == 'Lake Erie Crushers') & (data['PitcherTeam'] == 'Lake Erie Crushers'))].dropna(subset=features + ['TaggedPitchType'])"
   ]
  },
  {
   "cell_type": "code",
   "execution_count": 4,
   "id": "5b818072",
   "metadata": {},
   "outputs": [
    {
     "data": {
      "text/plain": [
       "Fastball     2293\n",
       "Slider       1057\n",
       "Sinker        743\n",
       "Changeup      478\n",
       "Cutter        446\n",
       "Curveball     352\n",
       "Splitter      126\n",
       "Name: TaggedPitchType, dtype: int64"
      ]
     },
     "execution_count": 4,
     "metadata": {},
     "output_type": "execute_result"
    }
   ],
   "source": [
    "data['TaggedPitchType'].value_counts()"
   ]
  },
  {
   "cell_type": "code",
   "execution_count": 5,
   "id": "90f6a1b4",
   "metadata": {},
   "outputs": [],
   "source": [
    "pitch_name_mapping = {\n",
    "    'Fastball': 0,\n",
    "    'Sinker': 1,\n",
    "    'Cutter': 2,\n",
    "    'Splitter': 3,\n",
    "    'Slider': 4,\n",
    "    'Curveball': 5,\n",
    "    'Changeup': 6,\n",
    "}\n",
    "\n",
    "data['TaggedPitchType'] = data['TaggedPitchType'].replace(pitch_name_mapping)\n",
    "\n",
    "data['PitcherThrows'] = data['PitcherThrows'].replace({\n",
    "    'Right': 0,\n",
    "    'Left': 1,\n",
    "    'R': 0,\n",
    "    'L': 1\n",
    "})\n",
    "\n",
    "data.loc[data['PitcherThrows'] == 1, 'HorzBreak'] *= -1\n",
    "data.loc[data['PitcherThrows'] == 1, 'SpinAxis'] = 360 - data.loc[data['PitcherThrows'] == 1, 'SpinAxis']\n",
    "    \n",
    "X = data[features]\n",
    "y = data.TaggedPitchType"
   ]
  },
  {
   "cell_type": "code",
   "execution_count": 6,
   "id": "4373aa54",
   "metadata": {},
   "outputs": [
    {
     "name": "stdout",
     "output_type": "stream",
     "text": [
      "100%|█████████████████████████████████████████████████| 50/50 [01:08<00:00,  1.38s/trial, best loss: -0.83803457688808]\n",
      "Best parameters: {'max_depth': 17, 'gamma': 1.398767785636796, 'reg_alpha': 44, 'reg_lambda': 0.4452402022741278, 'colsample_bytree': 0.803505451297938, 'min_child_weight': 6, 'n_estimators': 50}\n"
     ]
    },
    {
     "data": {
      "text/html": [
       "<style>#sk-container-id-1 {color: black;background-color: white;}#sk-container-id-1 pre{padding: 0;}#sk-container-id-1 div.sk-toggleable {background-color: white;}#sk-container-id-1 label.sk-toggleable__label {cursor: pointer;display: block;width: 100%;margin-bottom: 0;padding: 0.3em;box-sizing: border-box;text-align: center;}#sk-container-id-1 label.sk-toggleable__label-arrow:before {content: \"▸\";float: left;margin-right: 0.25em;color: #696969;}#sk-container-id-1 label.sk-toggleable__label-arrow:hover:before {color: black;}#sk-container-id-1 div.sk-estimator:hover label.sk-toggleable__label-arrow:before {color: black;}#sk-container-id-1 div.sk-toggleable__content {max-height: 0;max-width: 0;overflow: hidden;text-align: left;background-color: #f0f8ff;}#sk-container-id-1 div.sk-toggleable__content pre {margin: 0.2em;color: black;border-radius: 0.25em;background-color: #f0f8ff;}#sk-container-id-1 input.sk-toggleable__control:checked~div.sk-toggleable__content {max-height: 200px;max-width: 100%;overflow: auto;}#sk-container-id-1 input.sk-toggleable__control:checked~label.sk-toggleable__label-arrow:before {content: \"▾\";}#sk-container-id-1 div.sk-estimator input.sk-toggleable__control:checked~label.sk-toggleable__label {background-color: #d4ebff;}#sk-container-id-1 div.sk-label input.sk-toggleable__control:checked~label.sk-toggleable__label {background-color: #d4ebff;}#sk-container-id-1 input.sk-hidden--visually {border: 0;clip: rect(1px 1px 1px 1px);clip: rect(1px, 1px, 1px, 1px);height: 1px;margin: -1px;overflow: hidden;padding: 0;position: absolute;width: 1px;}#sk-container-id-1 div.sk-estimator {font-family: monospace;background-color: #f0f8ff;border: 1px dotted black;border-radius: 0.25em;box-sizing: border-box;margin-bottom: 0.5em;}#sk-container-id-1 div.sk-estimator:hover {background-color: #d4ebff;}#sk-container-id-1 div.sk-parallel-item::after {content: \"\";width: 100%;border-bottom: 1px solid gray;flex-grow: 1;}#sk-container-id-1 div.sk-label:hover label.sk-toggleable__label {background-color: #d4ebff;}#sk-container-id-1 div.sk-serial::before {content: \"\";position: absolute;border-left: 1px solid gray;box-sizing: border-box;top: 0;bottom: 0;left: 50%;z-index: 0;}#sk-container-id-1 div.sk-serial {display: flex;flex-direction: column;align-items: center;background-color: white;padding-right: 0.2em;padding-left: 0.2em;position: relative;}#sk-container-id-1 div.sk-item {position: relative;z-index: 1;}#sk-container-id-1 div.sk-parallel {display: flex;align-items: stretch;justify-content: center;background-color: white;position: relative;}#sk-container-id-1 div.sk-item::before, #sk-container-id-1 div.sk-parallel-item::before {content: \"\";position: absolute;border-left: 1px solid gray;box-sizing: border-box;top: 0;bottom: 0;left: 50%;z-index: -1;}#sk-container-id-1 div.sk-parallel-item {display: flex;flex-direction: column;z-index: 1;position: relative;background-color: white;}#sk-container-id-1 div.sk-parallel-item:first-child::after {align-self: flex-end;width: 50%;}#sk-container-id-1 div.sk-parallel-item:last-child::after {align-self: flex-start;width: 50%;}#sk-container-id-1 div.sk-parallel-item:only-child::after {width: 0;}#sk-container-id-1 div.sk-dashed-wrapped {border: 1px dashed gray;margin: 0 0.4em 0.5em 0.4em;box-sizing: border-box;padding-bottom: 0.4em;background-color: white;}#sk-container-id-1 div.sk-label label {font-family: monospace;font-weight: bold;display: inline-block;line-height: 1.2em;}#sk-container-id-1 div.sk-label-container {text-align: center;}#sk-container-id-1 div.sk-container {/* jupyter's `normalize.less` sets `[hidden] { display: none; }` but bootstrap.min.css set `[hidden] { display: none !important; }` so we also need the `!important` here to be able to override the default hidden behavior on the sphinx rendered scikit-learn.org. See: https://github.com/scikit-learn/scikit-learn/issues/21755 */display: inline-block !important;position: relative;}#sk-container-id-1 div.sk-text-repr-fallback {display: none;}</style><div id=\"sk-container-id-1\" class=\"sk-top-container\"><div class=\"sk-text-repr-fallback\"><pre>XGBClassifier(base_score=0.5, booster=&#x27;gbtree&#x27;, callbacks=None,\n",
       "              colsample_bylevel=1, colsample_bynode=1,\n",
       "              colsample_bytree=0.803505451297938, early_stopping_rounds=None,\n",
       "              enable_categorical=False, eval_metric=None, feature_types=None,\n",
       "              gamma=1.398767785636796, gpu_id=-1, grow_policy=&#x27;depthwise&#x27;,\n",
       "              importance_type=None, interaction_constraints=&#x27;&#x27;,\n",
       "              learning_rate=0.300000012, max_bin=256, max_cat_threshold=64,\n",
       "              max_cat_to_onehot=4, max_delta_step=0, max_depth=17, max_leaves=0,\n",
       "              min_child_weight=6, missing=nan, monotone_constraints=&#x27;()&#x27;,\n",
       "              n_estimators=50, n_jobs=0, num_parallel_tree=1,\n",
       "              objective=&#x27;multi:softprob&#x27;, predictor=&#x27;auto&#x27;, ...)</pre><b>In a Jupyter environment, please rerun this cell to show the HTML representation or trust the notebook. <br />On GitHub, the HTML representation is unable to render, please try loading this page with nbviewer.org.</b></div><div class=\"sk-container\" hidden><div class=\"sk-item\"><div class=\"sk-estimator sk-toggleable\"><input class=\"sk-toggleable__control sk-hidden--visually\" id=\"sk-estimator-id-1\" type=\"checkbox\" checked><label for=\"sk-estimator-id-1\" class=\"sk-toggleable__label sk-toggleable__label-arrow\">XGBClassifier</label><div class=\"sk-toggleable__content\"><pre>XGBClassifier(base_score=0.5, booster=&#x27;gbtree&#x27;, callbacks=None,\n",
       "              colsample_bylevel=1, colsample_bynode=1,\n",
       "              colsample_bytree=0.803505451297938, early_stopping_rounds=None,\n",
       "              enable_categorical=False, eval_metric=None, feature_types=None,\n",
       "              gamma=1.398767785636796, gpu_id=-1, grow_policy=&#x27;depthwise&#x27;,\n",
       "              importance_type=None, interaction_constraints=&#x27;&#x27;,\n",
       "              learning_rate=0.300000012, max_bin=256, max_cat_threshold=64,\n",
       "              max_cat_to_onehot=4, max_delta_step=0, max_depth=17, max_leaves=0,\n",
       "              min_child_weight=6, missing=nan, monotone_constraints=&#x27;()&#x27;,\n",
       "              n_estimators=50, n_jobs=0, num_parallel_tree=1,\n",
       "              objective=&#x27;multi:softprob&#x27;, predictor=&#x27;auto&#x27;, ...)</pre></div></div></div></div></div>"
      ],
      "text/plain": [
       "XGBClassifier(base_score=0.5, booster='gbtree', callbacks=None,\n",
       "              colsample_bylevel=1, colsample_bynode=1,\n",
       "              colsample_bytree=0.803505451297938, early_stopping_rounds=None,\n",
       "              enable_categorical=False, eval_metric=None, feature_types=None,\n",
       "              gamma=1.398767785636796, gpu_id=-1, grow_policy='depthwise',\n",
       "              importance_type=None, interaction_constraints='',\n",
       "              learning_rate=0.300000012, max_bin=256, max_cat_threshold=64,\n",
       "              max_cat_to_onehot=4, max_delta_step=0, max_depth=17, max_leaves=0,\n",
       "              min_child_weight=6, missing=nan, monotone_constraints='()',\n",
       "              n_estimators=50, n_jobs=0, num_parallel_tree=1,\n",
       "              objective='multi:softprob', predictor='auto', ...)"
      ]
     },
     "execution_count": 6,
     "metadata": {},
     "output_type": "execute_result"
    }
   ],
   "source": [
    "def objective(space, X_train, X_test, y_train, y_test):\n",
    "    model = XGBClassifier(\n",
    "        max_depth=int(space['max_depth']),\n",
    "        gamma=space['gamma'],\n",
    "        reg_alpha=int(space['reg_alpha']),\n",
    "        reg_lambda=space['reg_lambda'],\n",
    "        colsample_bytree=space['colsample_bytree'],\n",
    "        min_child_weight=int(space['min_child_weight']),\n",
    "        n_estimators=int(space['n_estimators']))\n",
    "    model.fit(X_train, y_train)\n",
    "    y_pred = model.predict(X_test)\n",
    "    accuracy = accuracy_score(y_test, y_pred)\n",
    "    return -accuracy\n",
    "\n",
    "X_train, X_test, y_train, y_test = train_test_split(X, y, test_size=0.2, random_state=np.random.seed())\n",
    "\n",
    "space = {\n",
    "    'max_depth': hp.quniform(\"max_depth\", 3, 18, 1),\n",
    "    'gamma': hp.uniform('gamma', 1, 9),\n",
    "    'reg_alpha': hp.quniform('reg_alpha', 40, 180, 1),\n",
    "    'reg_lambda': hp.uniform('reg_lambda', 0, 1),\n",
    "    'colsample_bytree': hp.uniform('colsample_bytree', 0.5, 1),\n",
    "    'min_child_weight': hp.quniform('min_child_weight', 0, 10, 1),\n",
    "    'n_estimators': hp.quniform('n_estimators', 50, 200, 1),\n",
    "    'seed': 12\n",
    "}\n",
    "\n",
    "best_params = fmin(fn=lambda params: objective(params, X_train, X_test, y_train, y_test),\n",
    "                   space=space,\n",
    "                   algo=tpe.suggest,\n",
    "                   max_evals=50)\n",
    "best_params = {\n",
    "    'max_depth': int(best_params['max_depth']),\n",
    "    'gamma': float(best_params['gamma']),\n",
    "    'reg_alpha': int(best_params['reg_alpha']),\n",
    "    'reg_lambda': float(best_params['reg_lambda']),\n",
    "    'colsample_bytree': float(best_params['colsample_bytree']),\n",
    "    'min_child_weight': int(best_params['min_child_weight']),\n",
    "    'n_estimators': int(best_params['n_estimators'])\n",
    "}\n",
    "print(\"Best parameters:\", best_params)\n",
    "\n",
    "model = XGBClassifier(**best_params)\n",
    "model.fit(X_train, y_train)"
   ]
  },
  {
   "cell_type": "code",
   "execution_count": 7,
   "id": "03ff5913",
   "metadata": {},
   "outputs": [
    {
     "name": "stdout",
     "output_type": "stream",
     "text": [
      "Final accuracy on test set: 0.83803457688808\n"
     ]
    }
   ],
   "source": [
    "y_pred_final = model.predict(X_test)\n",
    "accuracy_final = accuracy_score(y_test, y_pred_final)\n",
    "print(\"Final accuracy on test set:\", accuracy_final)"
   ]
  },
  {
   "cell_type": "code",
   "execution_count": 8,
   "id": "c664cf4f",
   "metadata": {},
   "outputs": [
    {
     "data": {
      "text/plain": [
       "['model/fl-pitch-tagging-model.joblib']"
      ]
     },
     "execution_count": 8,
     "metadata": {},
     "output_type": "execute_result"
    }
   ],
   "source": [
    "joblib.dump(model, 'model/fl-pitch-tagging-model.joblib')"
   ]
  }
 ],
 "metadata": {
  "kernelspec": {
   "display_name": "Python 3 (ipykernel)",
   "language": "python",
   "name": "python3"
  },
  "language_info": {
   "codemirror_mode": {
    "name": "ipython",
    "version": 3
   },
   "file_extension": ".py",
   "mimetype": "text/x-python",
   "name": "python",
   "nbconvert_exporter": "python",
   "pygments_lexer": "ipython3",
   "version": "3.9.7"
  }
 },
 "nbformat": 4,
 "nbformat_minor": 5
}
